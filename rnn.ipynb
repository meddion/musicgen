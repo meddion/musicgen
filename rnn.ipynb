{
 "cells": [
  {
   "cell_type": "code",
   "execution_count": 1,
   "metadata": {},
   "outputs": [],
   "source": [
    "import torch, torch.nn as nn, torch.nn.functional as F\n",
    "import glob\n",
    "# from midi_utils import MidiFile, load_midi_files\n",
    "# from importlib import reload\n",
    "# reload(midi_utils) # To reflect the changes."
   ]
  },
  {
   "cell_type": "code",
   "execution_count": 2,
   "metadata": {},
   "outputs": [
    {
     "data": {
      "text/plain": [
       "<module 'midi' from '/home/volod/work/personal/music-gen/midi.py'>"
      ]
     },
     "execution_count": 2,
     "metadata": {},
     "output_type": "execute_result"
    }
   ],
   "source": [
    "import midi\n",
    "\n",
    "from importlib import reload\n",
    "reload(midi) # To reflect the changes."
   ]
  },
  {
   "cell_type": "code",
   "execution_count": 3,
   "metadata": {},
   "outputs": [
    {
     "name": "stdout",
     "output_type": "stream",
     "text": [
      "Num of tacks:  456\n"
     ]
    }
   ],
   "source": [
    "midi_file_paths = glob.glob(\"./datasets/jazzomat/*.mid\")\n",
    "print(\"Num of tacks: \", len(midi_file_paths))\n",
    "\n",
    "midi_files  = []\n",
    "for f_name in midi_file_paths:\n",
    "    if (midi_file := midi.MidiFile.from_filepath(f_name, sequence_len=4)) != None and midi_file.has_instrument(\"piano\"):\n",
    "        midi_files.append(midi_file)"
   ]
  },
  {
   "cell_type": "code",
   "execution_count": 4,
   "metadata": {},
   "outputs": [],
   "source": [
    "midi_files_train = midi_files[:int(0.8 * len(midi_files))]\n",
    "midi_files_test = midi_files[len(midi_files_train):]"
   ]
  },
  {
   "cell_type": "code",
   "execution_count": 5,
   "metadata": {},
   "outputs": [
    {
     "name": "stdout",
     "output_type": "stream",
     "text": [
      "  # of instruments: 1\n",
      "No piano notes found for ./datasets/jazzomat/ArtPepper_Anthropology_FINAL.mid\n",
      "  # of instruments: 1\n",
      "No piano notes found for ./datasets/jazzomat/ArtPepper_BluesForBlanche_FINAL.mid\n",
      "  # of instruments: 1\n",
      "No piano notes found for ./datasets/jazzomat/ArtPepper_Desafinado_FINAL.mid\n",
      "  # of instruments: 1\n",
      "No piano notes found for ./datasets/jazzomat/ArtPepper_InAMellowTone_FINAL.mid\n",
      "  # of instruments: 1\n",
      "No piano notes found for ./datasets/jazzomat/ArtPepper_Stardust-1_FINAL.mid\n",
      "  # of instruments: 1\n",
      "No piano notes found for ./datasets/jazzomat/ArtPepper_Stardust-2_FINAL.mid\n",
      "  # of instruments: 1\n",
      "No piano notes found for ./datasets/jazzomat/BennyCarter_IGotItBad_FINAL.mid\n",
      "  # of instruments: 1\n",
      "No piano notes found for ./datasets/jazzomat/BennyCarter_It'sAWonderfulWorld-1_FINAL.mid\n",
      "  # of instruments: 1\n",
      "No piano notes found for ./datasets/jazzomat/BennyCarter_It'sAWonderfulWorld-2_FINAL.mid\n",
      "  # of instruments: 1\n",
      "No piano notes found for ./datasets/jazzomat/BennyCarter_JustFriends_FINAL.mid\n"
     ]
    },
    {
     "data": {
      "text/plain": [
       "[[], [], [], [], [], [], [], [], [], []]"
      ]
     },
     "execution_count": 5,
     "metadata": {},
     "output_type": "execute_result"
    }
   ],
   "source": [
    "midi_files_sample = midi_files_train[:10]\n",
    "\n",
    "# midi_files_sample[0].has_instrument(\"piano\")\n",
    "\n",
    "notes = [m_file.notes() for m_file in midi_files_sample]\n",
    "notes"
   ]
  },
  {
   "cell_type": "code",
   "execution_count": 6,
   "metadata": {},
   "outputs": [
    {
     "ename": "TypeError",
     "evalue": "iter() returned non-iterator of type 'MidiFile'",
     "output_type": "error",
     "traceback": [
      "\u001b[0;31m---------------------------------------------------------------------------\u001b[0m",
      "\u001b[0;31mTypeError\u001b[0m                                 Traceback (most recent call last)",
      "Cell \u001b[0;32mIn[6], line 33\u001b[0m\n\u001b[1;32m     30\u001b[0m     \u001b[39mreturn\u001b[39;00m hs[\u001b[39mlen\u001b[39m(\u001b[39minput\u001b[39m)\u001b[39m-\u001b[39m\u001b[39m1\u001b[39m], ys\n\u001b[1;32m     32\u001b[0m \u001b[39mfor\u001b[39;00m midi_file \u001b[39min\u001b[39;00m midi_files:\n\u001b[0;32m---> 33\u001b[0m     \u001b[39mfor\u001b[39;00m \u001b[39minput\u001b[39m, target \u001b[39min\u001b[39;00m midi_file:\n\u001b[1;32m     34\u001b[0m         hs, _ \u001b[39m=\u001b[39m loss_fn(\u001b[39minput\u001b[39m, target, hs_init)\n\u001b[1;32m     35\u001b[0m         \u001b[39mprint\u001b[39m(hs)\n",
      "\u001b[0;31mTypeError\u001b[0m: iter() returned non-iterator of type 'MidiFile'"
     ]
    }
   ],
   "source": [
    "midi_files = [midi_file]\n",
    "\n",
    "\n",
    "FEATURE_SIZE = 21\n",
    "HIDDEN_SIZE = 16\n",
    "\n",
    "# x.shape => (1, FEATURE_SIZE)\n",
    "eps = 0.01\n",
    "Wxh = torch.randn((FEATURE_SIZE, HIDDEN_SIZE)) * eps # x @ Wx => (1, HIDDEN_SIZE)\n",
    "Whh = torch.randn((HIDDEN_SIZE, HIDDEN_SIZE)) * eps\n",
    "bh = torch.randn((1, HIDDEN_SIZE)) * eps\n",
    "\n",
    "Why = torch.randn(HIDDEN_SIZE, FEATURE_SIZE) * eps\n",
    "by = torch.randn(1, FEATURE_SIZE) * eps\n",
    "\n",
    "hs_init = torch.rand((1, HIDDEN_SIZE)) * eps\n",
    "\n",
    "def loss_fn(input, target, hs_prev):\n",
    "    hs, ys = {}, {}\n",
    "    hs[-1] = torch.clone(hs_prev)\n",
    "\n",
    "    for i, x in enumerate(input):\n",
    "        hs[i] =  torch.tanh((x @ Wxh) + (hs[i-1] @ Whh + bh))\n",
    "        ys[i] = hs[i] @ Why + by\n",
    "\n",
    "        loss_note = \"\"\n",
    "\n",
    "        # loss = ???\n",
    "\n",
    "    return hs[len(input)-1], ys\n",
    "\n",
    "for midi_file in midi_files:\n",
    "    for input, target in midi_file:\n",
    "        hs, _ = loss_fn(input, target, hs_init)\n",
    "        print(hs)"
   ]
  }
 ],
 "metadata": {
  "kernelspec": {
   "display_name": "music-gen-r1sEhmnw",
   "language": "python",
   "name": "python3"
  },
  "language_info": {
   "codemirror_mode": {
    "name": "ipython",
    "version": 3
   },
   "file_extension": ".py",
   "mimetype": "text/x-python",
   "name": "python",
   "nbconvert_exporter": "python",
   "pygments_lexer": "ipython3",
   "version": "3.10.9"
  },
  "orig_nbformat": 4,
  "vscode": {
   "interpreter": {
    "hash": "53e0d5282a18c241e69c47c06e31bc21b63c9bb5695f25af7c71afaaa3ab8c8e"
   }
  }
 },
 "nbformat": 4,
 "nbformat_minor": 2
}
