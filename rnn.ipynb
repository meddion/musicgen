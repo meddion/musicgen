{
 "cells": [
  {
   "cell_type": "code",
   "execution_count": null,
   "metadata": {},
   "outputs": [],
   "source": [
    "import torch, torch.nn as nn, torch.nn.functional as F\n",
    "# from midi_utils import MidiFile, load_midi_files\n",
    "# from importlib import reload\n",
    "# reload(midi_utils) # To reflect the changes."
   ]
  },
  {
   "cell_type": "code",
   "execution_count": null,
   "metadata": {},
   "outputs": [],
   "source": [
    "import midi_utils\n",
    "\n",
    "from importlib import reload\n",
    "reload(midi_utils) # To reflect the changes.\n",
    "\n",
    "MidiFile = midi_utils.MidiFile\n",
    "load_midi_files = midi_utils.load_midi_files"
   ]
  },
  {
   "cell_type": "code",
   "execution_count": null,
   "metadata": {},
   "outputs": [],
   "source": [
    "midi_file = MidiFile.from_filepath(\"./datasets/jazz_kaggle/2ndMovementOfSinisterFootwear.mid\", sequence_len=4)\n",
    "assert len(midi_file.messages()) != 0"
   ]
  },
  {
   "cell_type": "code",
   "execution_count": null,
   "metadata": {},
   "outputs": [],
   "source": [
    "notes = midi_file.notes()\n",
    "\n",
    "t  = midi_file.tensor()\n",
    "\n",
    "midi_iter = iter(midi_file)\n",
    "\n",
    "for input, target in midi_iter:\n",
    "    print(input.shape)\n",
    "    break"
   ]
  },
  {
   "cell_type": "code",
   "execution_count": null,
   "metadata": {},
   "outputs": [],
   "source": [
    "midi_files = [midi_file]\n",
    "\n",
    "\n",
    "FEATURE_SIZE = 21\n",
    "HIDDEN_SIZE = 16\n",
    "\n",
    "# x.shape => (1, FEATURE_SIZE)\n",
    "eps = 0.01\n",
    "Wxh = torch.randn((FEATURE_SIZE, HIDDEN_SIZE)) * eps # x @ Wx => (1, HIDDEN_SIZE)\n",
    "Whh = torch.randn((HIDDEN_SIZE, HIDDEN_SIZE)) * eps\n",
    "bh = torch.randn((1, HIDDEN_SIZE)) * eps\n",
    "\n",
    "Why = torch.randn(HIDDEN_SIZE, FEATURE_SIZE) * eps\n",
    "by = torch.randn(1, FEATURE_SIZE) * eps\n",
    "\n",
    "hs_init = torch.rand((1, HIDDEN_SIZE)) * eps\n",
    "\n",
    "def loss_fn(input, target, hs_prev):\n",
    "    hs, ys = {}, {}\n",
    "    hs[-1] = torch.clone(hs_prev)\n",
    "\n",
    "    for i, x in enumerate(input):\n",
    "        hs[i] =  torch.tanh((x @ Wxh) + (hs[i-1] @ Whh + bh))\n",
    "        ys[i] = hs[i] @ Why + by\n",
    "        # loss = ???\n",
    "\n",
    "    return hs[len(input)-1], ys\n",
    "\n",
    "for midi_file in midi_files:\n",
    "    for input, target in midi_file:\n",
    "        hs, _ = loss_fn(input, target, hs_init)\n",
    "        print(hs)"
   ]
  }
 ],
 "metadata": {
  "kernelspec": {
   "display_name": ".venv",
   "language": "python",
   "name": "python3"
  },
  "language_info": {
   "codemirror_mode": {
    "name": "ipython",
    "version": 3
   },
   "file_extension": ".py",
   "mimetype": "text/x-python",
   "name": "python",
   "nbconvert_exporter": "python",
   "pygments_lexer": "ipython3",
   "version": "3.10.9"
  },
  "orig_nbformat": 4,
  "vscode": {
   "interpreter": {
    "hash": "77a437be36981081d909d8ee0e871ace9193bc1adbcc502606241a5396c84b19"
   }
  }
 },
 "nbformat": 4,
 "nbformat_minor": 2
}
