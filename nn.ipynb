{
 "cells": [
  {
   "cell_type": "code",
   "execution_count": 2,
   "metadata": {},
   "outputs": [
    {
     "data": {
      "text/plain": [
       "<module 'midi_utils' from '/home/volod/work/personal/music-gen/midi_utils.py'>"
      ]
     },
     "execution_count": 2,
     "metadata": {},
     "output_type": "execute_result"
    }
   ],
   "source": [
    "import torch\n",
    "import torch.nn as nn\n",
    "import midi_utils\n",
    "import mido\n",
    "\n",
    "from importlib import reload\n",
    "\n",
    "reload(midi_utils) # To reflect the changes."
   ]
  },
  {
   "cell_type": "code",
   "execution_count": 5,
   "metadata": {},
   "outputs": [
    {
     "name": "stderr",
     "output_type": "stream",
     "text": [
      "Fail to read ./datasets/jazz_kaggle/DarnThatDream.mid: data byte must be in range 0..127\n",
      "Fail to read ./datasets/jazz_kaggle/AnyWayYouWantIt.mid: data byte must be in range 0..127\n",
      "Fail to read ./datasets/jazz_kaggle/Lights.mid: data byte must be in range 0..127\n",
      "Fail to read ./datasets/jazz_kaggle/LovinTouchinSqueezin.mid: data byte must be in range 0..127\n",
      "Fail to read ./datasets/jazz_kaggle/Moment.mid: data byte must be in range 0..127\n",
      "Fail to read ./datasets/jazz_kaggle/AffairInSanMiguel.mid: data byte must be in range 0..127\n",
      "Fail to read ./datasets/jazz_kaggle/Lakes.mid: data byte must be in range 0..127\n",
      "Fail to read ./datasets/jazz_kaggle/BigSky.mid: data byte must be in range 0..127\n",
      "Fail to read ./datasets/jazz_kaggle/RoadWarriors.mid: data byte must be in range 0..127\n",
      "Fail to read ./datasets/jazz_kaggle/BraveNewWorld.mid: data byte must be in range 0..127\n",
      "Fail to read ./datasets/jazz_kaggle/CurvesAhead.mid: data byte must be in range 0..127\n",
      "Fail to read ./datasets/jazz_kaggle/Destiny.mid: data byte must be in range 0..127\n",
      "Fail to read ./datasets/jazz_kaggle/JamaicanNights.mid: data byte must be in range 0..127\n",
      "Fail to read ./datasets/jazz_kaggle/NativeSonsOfADistantLand.mid: data byte must be in range 0..127\n",
      "Fail to read ./datasets/jazz_kaggle/StTropez.mid: data byte must be in range 0..127\n",
      "Fail to read ./datasets/jazz_kaggle/StoriesOfThePaintedDesert.mid: data byte must be in range 0..127\n",
      "Fail to read ./datasets/jazz_kaggle/ThePrincess.mid: data byte must be in range 0..127\n",
      "Fail to read ./datasets/jazz_kaggle/TheCloserIGetToYou.mid: data byte must be in range 0..127\n",
      "Fail to read ./datasets/jazz_kaggle/CantilopeIsland.mid: data byte must be in range 0..127\n"
     ]
    }
   ],
   "source": [
    "notes, raw_msgs = midi_utils.notes_dataset(\"./datasets/jazz_kaggle\")"
   ]
  },
  {
   "cell_type": "code",
   "execution_count": 5,
   "metadata": {},
   "outputs": [],
   "source": []
  },
  {
   "cell_type": "code",
   "execution_count": 39,
   "metadata": {},
   "outputs": [
    {
     "data": {
      "text/plain": [
       "4496"
      ]
     },
     "execution_count": 39,
     "metadata": {},
     "output_type": "execute_result"
    }
   ],
   "source": []
  },
  {
   "cell_type": "code",
   "execution_count": 6,
   "metadata": {},
   "outputs": [],
   "source": [
    "torch.manual_seed(42) \n",
    "\n",
    "notes_in_seq = 4\n",
    "feature_size = notes_in_seq * len(Note.__dataclass_fields__)\n",
    "\n",
    "model = nn.Sequential(\n",
    "    nn.Linear(in_features=feature_size, out_features=60),\n",
    "    nn.ReLU(),\n",
    "    nn.Linear(in_features=60, out_features=30),\n",
    "    nn.ReLU(),\n",
    "    nn.Linear(in_features=30, out_features=feature_size // notes_in_seq),\n",
    ")\n",
    "\n",
    "loss_func = nn.MSELoss()\n",
    "\n",
    "optim = torch.optim.SGD(model.parameters(), lr=0.01)"
   ]
  },
  {
   "cell_type": "code",
   "execution_count": 28,
   "metadata": {},
   "outputs": [],
   "source": [
    "from torch.utils.data import DataLoader, Dataset\n",
    "\n",
    "# Fake data.\n",
    "X = torch.randn((1000, feature_size))\n",
    "y = torch.randn((1000, feature_size // notes_in_seq))\n",
    "train_loader = DataLoader(list(zip(X,y)), shuffle=True, batch_size=16)\n",
    "\n",
    "X_test = torch.randn((200, feature_size))\n",
    "y_test = torch.randn((200, feature_size // notes_in_seq))\n",
    "test_loader = DataLoader(list(zip(X_test,y_test)), shuffle=True, batch_size=16)"
   ]
  },
  {
   "cell_type": "code",
   "execution_count": 29,
   "metadata": {},
   "outputs": [],
   "source": [
    "epochs = 1000\n",
    "\n",
    "test_losses = []\n",
    "steps = []\n",
    "\n",
    "for epoch in range(epochs):\n",
    "    for i, (X, y) in enumerate(test_loader):\n",
    "        i += epoch\n",
    "        model.train()\n",
    "\n",
    "        pred = model(X)\n",
    "\n",
    "        loss = loss_func(pred, y)\n",
    "        loss.backward()\n",
    "\n",
    "        test_losses.append(loss.item())\n",
    "        steps.append(i)\n",
    "\n",
    "        optim.step()\n",
    "        optim.zero_grad()\n",
    "\n",
    "        model.eval()\n",
    "        with torch.inference_mode():\n",
    "            # X_test, y_test = next(test_loader)\n",
    "            # pred = model(X)\n",
    "            # loss = loss_func(pred, y)\n",
    "            # loss.backward()\n",
    "            # test_losses.append(loss)\n",
    "            # Calculate validation loss of the model.\n",
    "            pass"
   ]
  },
  {
   "cell_type": "code",
   "execution_count": 30,
   "metadata": {},
   "outputs": [
    {
     "data": {
      "text/plain": [
       "[<matplotlib.lines.Line2D at 0x7fca71d08d00>]"
      ]
     },
     "execution_count": 30,
     "metadata": {},
     "output_type": "execute_result"
    },
    {
     "data": {
      "image/png": "[encoded data removed]",
      "text/plain": [
       "<Figure size 640x480 with 1 Axes>"
      ]
     },
     "metadata": {},
     "output_type": "display_data"
    }
   ],
   "source": [
    "import matplotlib.pyplot as plt\n",
    "\n",
    "plt.plot(steps, test_losses)"
   ]
  },
  {
   "cell_type": "code",
   "execution_count": 55,
   "metadata": {},
   "outputs": [],
   "source": [
    "from torch.utils.data import DataLoader\n",
    "\n",
    "X = torch.rand((100, 2))\n",
    "y = torch.rand((100, 1))\n",
    "\n",
    "loader = DataLoader(list(zip(X, y)), batch_size=25, shuffle=True)"
   ]
  },
  {
   "cell_type": "code",
   "execution_count": 31,
   "metadata": {},
   "outputs": [
    {
     "data": {
      "text/plain": [
       "0.007875013165175915"
      ]
     },
     "execution_count": 31,
     "metadata": {},
     "output_type": "execute_result"
    }
   ],
   "source": [
    "test_losses[-1]"
   ]
  },
  {
   "cell_type": "code",
   "execution_count": null,
   "metadata": {},
   "outputs": [],
   "source": []
  }
 ],
 "metadata": {
  "kernelspec": {
   "display_name": ".venv",
   "language": "python",
   "name": "python3"
  },
  "language_info": {
   "codemirror_mode": {
    "name": "ipython",
    "version": 3
   },
   "file_extension": ".py",
   "mimetype": "text/x-python",
   "name": "python",
   "nbconvert_exporter": "python",
   "pygments_lexer": "ipython3",
   "version": "3.10.9"
  },
  "orig_nbformat": 4,
  "vscode": {
   "interpreter": {
    "hash": "77a437be36981081d909d8ee0e871ace9193bc1adbcc502606241a5396c84b19"
   }
  }
 },
 "nbformat": 4,
 "nbformat_minor": 2
}
