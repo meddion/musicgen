{
 "cells": [
  {
   "cell_type": "code",
   "execution_count": null,
   "metadata": {},
   "outputs": [],
   "source": [
    "import mido\n",
    "\n",
    "\n",
    "# These functions were implemented before I changed the midi.py's api.\n",
    "def open_midi_file(*args):\n",
    "    raise RuntimeError(\"Not implemented\")\n",
    "\n",
    "\n",
    "def extract_notes(*args):\n",
    "    raise RuntimeError(\"Not implemented\")\n",
    "\n",
    "\n",
    "def new_midi_file(*args):\n",
    "    raise RuntimeError(\"Not implemented\")\n",
    "\n",
    "\n",
    "def play(*args):\n",
    "    raise RuntimeError(\"Not implemented\")\n",
    "\n",
    "\n",
    "def notes_dataset(*args):\n",
    "    raise RuntimeError(\"Not implemented\")"
   ]
  },
  {
   "cell_type": "code",
   "execution_count": null,
   "metadata": {},
   "outputs": [],
   "source": [
    "# Example\n",
    "path = \"./datasets/jazzomat/ArtPepper_Anthropology_FINAL.mid\"\n",
    "midi_file = open_midi_file(path)\n",
    "assert len(midi_file.tracks) > 0\n",
    "\n",
    "# From a midi file to note values.\n",
    "notes, msgs = extract_notes(midi_file)\n",
    "assert len(notes) > 0\n",
    "\n",
    "# From note values to a midi file.\n",
    "midi_file_recov = new_midi_file(notes, [100] * len(notes))\n",
    "play(midi_file_recov)"
   ]
  },
  {
   "cell_type": "code",
   "execution_count": null,
   "metadata": {},
   "outputs": [],
   "source": [
    "note_sequences, raw_dataset = notes_dataset(\n",
    "    # \"./datasets/jazz_kaggle/\",\n",
    "    \"./datasets/jazzomat/\",\n",
    ")\n",
    "\n",
    "time_sequences = []\n",
    "for track in raw_dataset:\n",
    "    track_times = []\n",
    "    for msg in track:\n",
    "        if isinstance(msg, mido.Message):\n",
    "            time = msg.time\n",
    "            track_times.append(time)\n",
    "    time_sequences.append(track_times)"
   ]
  },
  {
   "cell_type": "code",
   "execution_count": null,
   "metadata": {},
   "outputs": [],
   "source": [
    "meta_msgs = []\n",
    "for track in raw_dataset:\n",
    "    meta_msg = []\n",
    "    for msg in track:\n",
    "        if isinstance(msg, mido.MetaMessage):\n",
    "            meta_msg.append(msg)\n",
    "    meta_msgs.append(meta_msg)\n",
    "\n",
    "meta_msgs"
   ]
  },
  {
   "cell_type": "code",
   "execution_count": null,
   "metadata": {},
   "outputs": [],
   "source": [
    "# Explore data.\n",
    "import mido\n",
    "import numpy as np\n",
    "\n",
    "times = np.array([])\n",
    "times_map = {}\n",
    "\n",
    "for track in raw_dataset:\n",
    "    t = []\n",
    "    for msg in track:\n",
    "        if isinstance(msg, mido.Message):\n",
    "            time_sec = msg.time / 1000\n",
    "            times_map[time_sec] = times_map.get(time_sec, 0) + 1\n",
    "            t.append(time_sec)\n",
    "    times = np.concatenate((times, t))\n",
    "\n",
    "assert len(times) > 0\n",
    "assert len(times_map) > 0\n",
    "\n",
    "print(f\"Times\\nMean: {times.mean()}\\nMin/Max: {times.min()}/{times.max()}\")\n",
    "\n",
    "print(len(times_map))\n",
    "times_map = {key: value for key, value in times_map.items() if value > 10}\n",
    "print(len(times_map))"
   ]
  },
  {
   "cell_type": "code",
   "execution_count": null,
   "metadata": {},
   "outputs": [],
   "source": [
    "import matplotlib.pyplot as plt\n",
    "import math\n",
    "from typing import List\n",
    "\n",
    "\n",
    "def plot_times(unique_times: List[int]):\n",
    "    # time_frequency = list(timesMap.values())\n",
    "    n_bins = int(math.sqrt(len(unique_times)))\n",
    "\n",
    "    plt.hist(unique_times, bins=n_bins, color=\"maroon\")\n",
    "\n",
    "    plt.xlabel(\"Times\")\n",
    "    plt.ylabel(\"Frequency\")\n",
    "\n",
    "    # Show plot\n",
    "    plt.show()\n",
    "\n",
    "\n",
    "unique_times = list(times_map.keys())\n",
    "plot_times(unique_times)"
   ]
  },
  {
   "cell_type": "code",
   "execution_count": null,
   "metadata": {},
   "outputs": [],
   "source": [
    "# Example\n",
    "import markovify\n",
    "\n",
    "time_model = markovify.Chain(meta_msgs, state_size=10)\n",
    "note_model = markovify.Chain(note_sequences, state_size=10)\n",
    "# model = model.compile()\n",
    "\n",
    "notes, times = None, None\n",
    "while True:\n",
    "    notes = note_model.walk()\n",
    "    times = time_model.walk()\n",
    "    n = min(len(notes), len(times))\n",
    "    if n > 800:\n",
    "        notes = notes[:n]\n",
    "        times = times[:n]\n",
    "        break\n",
    "\n",
    "print(len(notes), len(times))\n",
    "\n",
    "midi_file = new_midi_file(notes[:n], times[:n])\n",
    "\n",
    "play(midi_file)"
   ]
  },
  {
   "cell_type": "code",
   "execution_count": null,
   "metadata": {},
   "outputs": [],
   "source": [
    "# Example\n",
    "import markovify\n",
    "\n",
    "notes_and_times = []\n",
    "for i in range(len(note_sequences)):\n",
    "    notes_and_times.append(\n",
    "        [f\"{note}_{time}\" for note, time in zip(note_sequences[i], meta_msgs[i])]\n",
    "    )\n",
    "\n",
    "model = markovify.Chain(notes_and_times, state_size=5)\n",
    "# model = model.compile()\n",
    "\n",
    "res = None\n",
    "while True:\n",
    "    res = model.walk()\n",
    "    if len(res) > 800:\n",
    "        break\n",
    "\n",
    "# song = map(lambda v: v.split('_'), song)\n",
    "notes, times = [], []\n",
    "for v in res:\n",
    "    note, time = tuple(v.split(\"_\")[:2])\n",
    "    notes.append(int(note))\n",
    "    times.append(int(time))\n",
    "\n",
    "# print(notes[:10], times[:10])\n",
    "midi_file = new_midi_file(notes, times)\n",
    "\n",
    "play(midi_file)"
   ]
  }
 ],
 "metadata": {
  "kernelspec": {
   "display_name": ".venv",
   "language": "python",
   "name": "python3"
  },
  "language_info": {
   "codemirror_mode": {
    "name": "ipython",
    "version": 3
   },
   "file_extension": ".py",
   "mimetype": "text/x-python",
   "name": "python",
   "nbconvert_exporter": "python",
   "pygments_lexer": "ipython3",
   "version": "3.11.7"
  },
  "orig_nbformat": 4,
  "vscode": {
   "interpreter": {
    "hash": "87d0eaa5ed462e8f7d7939173f35e95b78d4ac911f3dc923ef4c953daf7decf8"
   }
  }
 },
 "nbformat": 4,
 "nbformat_minor": 2
}
