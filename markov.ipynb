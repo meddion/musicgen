{
 "cells": [
  {
   "cell_type": "code",
   "execution_count": 4,
   "metadata": {},
   "outputs": [],
   "source": [
    "from midi_utils import *"
   ]
  },
  {
   "cell_type": "code",
   "execution_count": null,
   "metadata": {},
   "outputs": [],
   "source": [
    "# Example\n",
    "path = \"jazzomat/ArtPepper_Anthropology_FINAL.mid\"\n",
    "midi_file = open_midi_file(path)\n",
    "assert len(midi_file.tracks) > 0\n",
    "\n",
    "# From a midi file to note values.\n",
    "notes, msgs = extract_notes(midi_file)\n",
    "assert len(notes) > 0\n",
    "\n",
    "# From note values to a midi file.\n",
    "midi_file_recov = new_midi_file(notes)\n",
    "play(midi_file_recov)"
   ]
  },
  {
   "cell_type": "code",
   "execution_count": 7,
   "metadata": {},
   "outputs": [],
   "source": [
    "dataset, raw_dataset  = notes_dataset(\"./jazzomat\")"
   ]
  },
  {
   "cell_type": "code",
   "execution_count": 16,
   "metadata": {},
   "outputs": [
    {
     "name": "stdout",
     "output_type": "stream",
     "text": [
      "Times\n",
      "Mean: 441.2246979792246\n",
      "Min/Max: 0.0/5237180.0\n"
     ]
    }
   ],
   "source": [
    "# Explore data.\n",
    "import mido\n",
    "import numpy as np\n",
    "\n",
    "times = np.array([])\n",
    "timesMap = {}\n",
    "\n",
    "for track in raw_dataset:\n",
    "    t = [] \n",
    "    for msg in track:\n",
    "        if isinstance(msg, mido.Message):\n",
    "            timesMap[msg.time] = timesMap.get(msg.time, 0) + 1\n",
    "            t.append(msg.time)\n",
    "    times = np.concatenate((times, t))\n",
    "\n",
    "assert len(times) > 0\n",
    "assert len(timesMap) > 0\n",
    "\n",
    "print(f\"Times\\nMean: {times.mean()}\\nMin/Max: {times.min()}/{times.max()}\")"
   ]
  },
  {
   "cell_type": "code",
   "execution_count": 1,
   "metadata": {},
   "outputs": [
    {
     "data": {
      "image/png": "[encoded data removed]",
      "text/plain": [
       "<Figure size 640x480 with 1 Axes>"
      ]
     },
     "metadata": {},
     "output_type": "display_data"
    }
   ],
   "source": [
    "import matplotlib.pyplot as plt\n",
    "\n",
    "labels = timesMap.keys()\n",
    "values = timesMap.values()\n",
    "\n",
    "plt.bar(labels, values)\n",
    "\n",
    "plt.xlabel('Labels')\n",
    "plt.ylabel('Values')\n",
    "plt.title('Bar Plot Example')\n",
    "\n",
    "# Show plot\n",
    "plt.show()"
   ]
  },
  {
   "cell_type": "code",
   "execution_count": 10,
   "metadata": {},
   "outputs": [
    {
     "ename": "KeyboardInterrupt",
     "evalue": "",
     "output_type": "error",
     "traceback": [
      "\u001b[0;31m---------------------------------------------------------------------------\u001b[0m",
      "\u001b[0;31mKeyboardInterrupt\u001b[0m                         Traceback (most recent call last)",
      "\u001b[1;32m/home/volod/work/personal/markov-chain-gen/main.ipynb Cell 5\u001b[0m in \u001b[0;36m<cell line: 10>\u001b[0;34m()\u001b[0m\n\u001b[1;32m      <a href='vscode-notebook-cell:/home/volod/work/personal/markov-chain-gen/main.ipynb#W4sZmlsZQ%3D%3D?line=6'>7</a>\u001b[0m song \u001b[39m=\u001b[39m model\u001b[39m.\u001b[39mwalk()\n\u001b[1;32m      <a href='vscode-notebook-cell:/home/volod/work/personal/markov-chain-gen/main.ipynb#W4sZmlsZQ%3D%3D?line=8'>9</a>\u001b[0m midi_file \u001b[39m=\u001b[39m new_midi_file(song)\n\u001b[0;32m---> <a href='vscode-notebook-cell:/home/volod/work/personal/markov-chain-gen/main.ipynb#W4sZmlsZQ%3D%3D?line=9'>10</a>\u001b[0m play(midi_file)\n",
      "File \u001b[0;32m~/work/personal/markov-chain-gen/midi_utils.py:49\u001b[0m, in \u001b[0;36mplay\u001b[0;34m(mid)\u001b[0m\n\u001b[1;32m     46\u001b[0m \u001b[39massert\u001b[39;00m port_name \u001b[39m!=\u001b[39m \u001b[39m\"\u001b[39m\u001b[39m\"\u001b[39m, \u001b[39m\"\u001b[39m\u001b[39mport name must not be empty\u001b[39m\u001b[39m\"\u001b[39m\n\u001b[1;32m     48\u001b[0m \u001b[39mwith\u001b[39;00m mido\u001b[39m.\u001b[39mopen_output(name\u001b[39m=\u001b[39mport_name) \u001b[39mas\u001b[39;00m outport:\n\u001b[0;32m---> 49\u001b[0m     \u001b[39mfor\u001b[39;00m msg \u001b[39min\u001b[39;00m mid\u001b[39m.\u001b[39mplay():\n\u001b[1;32m     50\u001b[0m         outport\u001b[39m.\u001b[39msend(msg)\n",
      "File \u001b[0;32m~/.local/lib/python3.10/site-packages/mido/midifiles/midifiles.py:421\u001b[0m, in \u001b[0;36mMidiFile.play\u001b[0;34m(self, meta_messages)\u001b[0m\n\u001b[1;32m    418\u001b[0m duration_to_next_event \u001b[39m=\u001b[39m input_time \u001b[39m-\u001b[39m playback_time\n\u001b[1;32m    420\u001b[0m \u001b[39mif\u001b[39;00m duration_to_next_event \u001b[39m>\u001b[39m \u001b[39m0.0\u001b[39m:\n\u001b[0;32m--> 421\u001b[0m     time\u001b[39m.\u001b[39;49msleep(duration_to_next_event)\n\u001b[1;32m    423\u001b[0m \u001b[39mif\u001b[39;00m \u001b[39misinstance\u001b[39m(msg, MetaMessage) \u001b[39mand\u001b[39;00m \u001b[39mnot\u001b[39;00m meta_messages:\n\u001b[1;32m    424\u001b[0m     \u001b[39mcontinue\u001b[39;00m\n",
      "\u001b[0;31mKeyboardInterrupt\u001b[0m: "
     ]
    }
   ],
   "source": [
    "# Example\n",
    "import markovify\n",
    "\n",
    "model = markovify.Chain(dataset, state_size=3)\n",
    "# model = model.compile()\n",
    "\n",
    "song = model.walk()\n",
    "\n",
    "midi_file = new_midi_file(song)\n",
    "play(midi_file)"
   ]
  }
 ],
 "metadata": {
  "kernelspec": {
   "display_name": ".venv",
   "language": "python",
   "name": "python3"
  },
  "language_info": {
   "codemirror_mode": {
    "name": "ipython",
    "version": 3
   },
   "file_extension": ".py",
   "mimetype": "text/x-python",
   "name": "python",
   "nbconvert_exporter": "python",
   "pygments_lexer": "ipython3",
   "version": "3.10.9"
  },
  "orig_nbformat": 4,
  "vscode": {
   "interpreter": {
    "hash": "87d0eaa5ed462e8f7d7939173f35e95b78d4ac911f3dc923ef4c953daf7decf8"
   }
  }
 },
 "nbformat": 4,
 "nbformat_minor": 2
}
